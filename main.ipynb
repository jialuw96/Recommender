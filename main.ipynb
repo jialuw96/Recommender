{
 "cells": [
  {
   "cell_type": "markdown",
   "id": "4a40b58c",
   "metadata": {},
   "source": [
    "# Recommendation system: comparison of LightGCN model and others\n",
    "\n",
    "@Jialu Wang, University of Notre Dame \n",
    "\n",
    "\n",
    "Reference: \n",
    "\n",
    "1.Xiangnan He et al. LightGCN: Simplifying and Powering Graph Convolution network for recommendation."
   ]
  },
  {
   "cell_type": "code",
   "execution_count": 1,
   "id": "4bdc0bd1",
   "metadata": {},
   "outputs": [],
   "source": [
    "import os\n",
    "from os.path import join\n",
    "import torch\n",
    "from torch.utils.data import Dataset, DataLoader\n",
    "import numpy as np\n",
    "from scipy.sparse import csr_matrix"
   ]
  },
  {
   "cell_type": "code",
   "execution_count": 2,
   "id": "8a0b9784",
   "metadata": {},
   "outputs": [],
   "source": [
    "from dataloader import Loader"
   ]
  },
  {
   "cell_type": "markdown",
   "id": "83828c00",
   "metadata": {},
   "source": [
    "### Load data"
   ]
  },
  {
   "cell_type": "code",
   "execution_count": 3,
   "id": "9dc2cbd0",
   "metadata": {},
   "outputs": [
    {
     "name": "stdout",
     "output_type": "stream",
     "text": [
      "\u001b[0;30;43mloading [./data/gowalla]\u001b[0m\n",
      "810128 interactions for training\n",
      "217242 interactions for testing\n",
      "gowalla Sparsity : 0.0008396216228570436\n",
      "gowalla is ready to go\n"
     ]
    }
   ],
   "source": [
    "seeData = Loader()"
   ]
  },
  {
   "cell_type": "code",
   "execution_count": 4,
   "id": "ca7fa22f",
   "metadata": {},
   "outputs": [
    {
     "name": "stdout",
     "output_type": "stream",
     "text": [
      "29858 40981\n",
      "[array([127, 128, 129, 130, 131, 132, 133, 134, 135, 136, 137, 138, 139,\n",
      "       140, 141, 142, 143, 144, 145, 146, 147, 148, 149, 150, 151, 152,\n",
      "       153, 154, 155, 156, 157, 158, 159, 160, 161, 162, 163, 164, 165,\n",
      "       166, 167, 168, 169, 170, 171, 172, 173, 174, 175], dtype=int32), array([160, 176, 177, 178, 179, 180, 181, 182, 183, 184, 185, 186, 187,\n",
      "       188, 189, 190, 191, 192, 193, 194, 195, 196, 197, 198, 199, 200,\n",
      "       201, 202, 203, 204, 205, 206, 207, 208, 209, 210, 211, 212, 213,\n",
      "       214, 215, 216, 217, 218, 219, 220, 221, 222, 223, 224, 225, 226,\n",
      "       227, 228, 229, 230, 231, 232, 233, 234, 235, 236, 237, 238, 239,\n",
      "       240, 241, 242, 243, 244, 245, 246, 247, 248, 249, 250, 251, 252,\n",
      "       253, 254, 255, 256, 257, 258], dtype=int32)]\n"
     ]
    }
   ],
   "source": [
    "print(seeData.n_users, seeData.m_item)\n",
    "print(seeData.getUserPosItems([1,2]))"
   ]
  },
  {
   "cell_type": "code",
   "execution_count": 5,
   "id": "e1808119",
   "metadata": {},
   "outputs": [
    {
     "name": "stdout",
     "output_type": "stream",
     "text": [
      "loading adjacency matrix\n",
      "successfully loaded...\n",
      "don't split the matrix\n",
      "tensor(indices=tensor([[    0,     0,     0,  ..., 70837, 70837, 70838],\n",
      "                       [29858, 29859, 29860,  ..., 29322, 29527, 29371]]),\n",
      "       values=tensor([0.0246, 0.0246, 0.0209,  ..., 0.2500, 0.2500, 0.2673]),\n",
      "       size=(70839, 70839), nnz=1620256, layout=torch.sparse_coo)\n"
     ]
    }
   ],
   "source": [
    "graph = seeData.getSparseGraph()\n",
    "\n",
    "print(seeData.Graph)"
   ]
  },
  {
   "cell_type": "markdown",
   "id": "ac34121d",
   "metadata": {},
   "source": [
    "## Create model"
   ]
  },
  {
   "cell_type": "code",
   "execution_count": null,
   "id": "eb65e818",
   "metadata": {},
   "outputs": [],
   "source": []
  }
 ],
 "metadata": {
  "kernelspec": {
   "display_name": "Python 3 (ipykernel)",
   "language": "python",
   "name": "python3"
  },
  "language_info": {
   "codemirror_mode": {
    "name": "ipython",
    "version": 3
   },
   "file_extension": ".py",
   "mimetype": "text/x-python",
   "name": "python",
   "nbconvert_exporter": "python",
   "pygments_lexer": "ipython3",
   "version": "3.10.4"
  }
 },
 "nbformat": 4,
 "nbformat_minor": 5
}
